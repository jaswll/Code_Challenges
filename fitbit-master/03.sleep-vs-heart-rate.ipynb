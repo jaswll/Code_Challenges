{
 "cells": [
  {
   "cell_type": "code",
   "execution_count": 1,
   "metadata": {},
   "outputs": [],
   "source": [
    "import pandas as pd"
   ]
  },
  {
   "cell_type": "markdown",
   "metadata": {},
   "source": [
    "Let's upload the sleep data:"
   ]
  },
  {
   "cell_type": "code",
   "execution_count": 5,
   "metadata": {},
   "outputs": [
    {
     "data": {
      "text/html": [
       "<div>\n",
       "<style scoped>\n",
       "    .dataframe tbody tr th:only-of-type {\n",
       "        vertical-align: middle;\n",
       "    }\n",
       "\n",
       "    .dataframe tbody tr th {\n",
       "        vertical-align: top;\n",
       "    }\n",
       "\n",
       "    .dataframe thead th {\n",
       "        text-align: right;\n",
       "    }\n",
       "</style>\n",
       "<table border=\"1\" class=\"dataframe\">\n",
       "  <thead>\n",
       "    <tr style=\"text-align: right;\">\n",
       "      <th></th>\n",
       "      <th>Unnamed: 0</th>\n",
       "      <th>Id</th>\n",
       "      <th>Time</th>\n",
       "      <th>Moving</th>\n",
       "      <th>logId</th>\n",
       "      <th>month</th>\n",
       "      <th>day</th>\n",
       "      <th>hour</th>\n",
       "      <th>minute</th>\n",
       "      <th>second</th>\n",
       "      <th>am</th>\n",
       "      <th>time_elapsed</th>\n",
       "    </tr>\n",
       "  </thead>\n",
       "  <tbody>\n",
       "    <tr>\n",
       "      <th>0</th>\n",
       "      <td>31159</td>\n",
       "      <td>2347167796</td>\n",
       "      <td>4/12/2016 10:05:00 PM</td>\n",
       "      <td>3</td>\n",
       "      <td>11385457746</td>\n",
       "      <td>4</td>\n",
       "      <td>12</td>\n",
       "      <td>22</td>\n",
       "      <td>5</td>\n",
       "      <td>0</td>\n",
       "      <td>PM</td>\n",
       "      <td>79500</td>\n",
       "    </tr>\n",
       "    <tr>\n",
       "      <th>1</th>\n",
       "      <td>31160</td>\n",
       "      <td>2347167796</td>\n",
       "      <td>4/12/2016 10:06:00 PM</td>\n",
       "      <td>3</td>\n",
       "      <td>11385457746</td>\n",
       "      <td>4</td>\n",
       "      <td>12</td>\n",
       "      <td>22</td>\n",
       "      <td>6</td>\n",
       "      <td>0</td>\n",
       "      <td>PM</td>\n",
       "      <td>79560</td>\n",
       "    </tr>\n",
       "    <tr>\n",
       "      <th>2</th>\n",
       "      <td>31161</td>\n",
       "      <td>2347167796</td>\n",
       "      <td>4/12/2016 10:07:00 PM</td>\n",
       "      <td>2</td>\n",
       "      <td>11385457746</td>\n",
       "      <td>4</td>\n",
       "      <td>12</td>\n",
       "      <td>22</td>\n",
       "      <td>7</td>\n",
       "      <td>0</td>\n",
       "      <td>PM</td>\n",
       "      <td>79620</td>\n",
       "    </tr>\n",
       "    <tr>\n",
       "      <th>3</th>\n",
       "      <td>31162</td>\n",
       "      <td>2347167796</td>\n",
       "      <td>4/12/2016 10:08:00 PM</td>\n",
       "      <td>1</td>\n",
       "      <td>11385457746</td>\n",
       "      <td>4</td>\n",
       "      <td>12</td>\n",
       "      <td>22</td>\n",
       "      <td>8</td>\n",
       "      <td>0</td>\n",
       "      <td>PM</td>\n",
       "      <td>79680</td>\n",
       "    </tr>\n",
       "    <tr>\n",
       "      <th>4</th>\n",
       "      <td>31163</td>\n",
       "      <td>2347167796</td>\n",
       "      <td>4/12/2016 10:09:00 PM</td>\n",
       "      <td>1</td>\n",
       "      <td>11385457746</td>\n",
       "      <td>4</td>\n",
       "      <td>12</td>\n",
       "      <td>22</td>\n",
       "      <td>9</td>\n",
       "      <td>0</td>\n",
       "      <td>PM</td>\n",
       "      <td>79740</td>\n",
       "    </tr>\n",
       "  </tbody>\n",
       "</table>\n",
       "</div>"
      ],
      "text/plain": [
       "   Unnamed: 0          Id                   Time  Moving        logId  month  \\\n",
       "0       31159  2347167796  4/12/2016 10:05:00 PM       3  11385457746      4   \n",
       "1       31160  2347167796  4/12/2016 10:06:00 PM       3  11385457746      4   \n",
       "2       31161  2347167796  4/12/2016 10:07:00 PM       2  11385457746      4   \n",
       "3       31162  2347167796  4/12/2016 10:08:00 PM       1  11385457746      4   \n",
       "4       31163  2347167796  4/12/2016 10:09:00 PM       1  11385457746      4   \n",
       "\n",
       "   day  hour  minute  second  am  time_elapsed  \n",
       "0   12    22       5       0  PM         79500  \n",
       "1   12    22       6       0  PM         79560  \n",
       "2   12    22       7       0  PM         79620  \n",
       "3   12    22       8       0  PM         79680  \n",
       "4   12    22       9       0  PM         79740  "
      ]
     },
     "execution_count": 5,
     "metadata": {},
     "output_type": "execute_result"
    }
   ],
   "source": [
    "sleep = pd.read_csv('./sleep.csv', compression='gzip')\n",
    "sleep.head()"
   ]
  },
  {
   "cell_type": "code",
   "execution_count": 8,
   "metadata": {},
   "outputs": [
    {
     "data": {
      "text/html": [
       "<div>\n",
       "<style scoped>\n",
       "    .dataframe tbody tr th:only-of-type {\n",
       "        vertical-align: middle;\n",
       "    }\n",
       "\n",
       "    .dataframe tbody tr th {\n",
       "        vertical-align: top;\n",
       "    }\n",
       "\n",
       "    .dataframe thead th {\n",
       "        text-align: right;\n",
       "    }\n",
       "</style>\n",
       "<table border=\"1\" class=\"dataframe\">\n",
       "  <thead>\n",
       "    <tr style=\"text-align: right;\">\n",
       "      <th></th>\n",
       "      <th>Id</th>\n",
       "      <th>Time</th>\n",
       "      <th>Moving</th>\n",
       "    </tr>\n",
       "  </thead>\n",
       "  <tbody>\n",
       "    <tr>\n",
       "      <th>0</th>\n",
       "      <td>2347167796</td>\n",
       "      <td>4/12/2016 10:05:00 PM</td>\n",
       "      <td>3</td>\n",
       "    </tr>\n",
       "    <tr>\n",
       "      <th>1</th>\n",
       "      <td>2347167796</td>\n",
       "      <td>4/12/2016 10:06:00 PM</td>\n",
       "      <td>3</td>\n",
       "    </tr>\n",
       "    <tr>\n",
       "      <th>2</th>\n",
       "      <td>2347167796</td>\n",
       "      <td>4/12/2016 10:07:00 PM</td>\n",
       "      <td>2</td>\n",
       "    </tr>\n",
       "    <tr>\n",
       "      <th>3</th>\n",
       "      <td>2347167796</td>\n",
       "      <td>4/12/2016 10:08:00 PM</td>\n",
       "      <td>1</td>\n",
       "    </tr>\n",
       "    <tr>\n",
       "      <th>4</th>\n",
       "      <td>2347167796</td>\n",
       "      <td>4/12/2016 10:09:00 PM</td>\n",
       "      <td>1</td>\n",
       "    </tr>\n",
       "  </tbody>\n",
       "</table>\n",
       "</div>"
      ],
      "text/plain": [
       "           Id                   Time  Moving\n",
       "0  2347167796  4/12/2016 10:05:00 PM       3\n",
       "1  2347167796  4/12/2016 10:06:00 PM       3\n",
       "2  2347167796  4/12/2016 10:07:00 PM       2\n",
       "3  2347167796  4/12/2016 10:08:00 PM       1\n",
       "4  2347167796  4/12/2016 10:09:00 PM       1"
      ]
     },
     "execution_count": 8,
     "metadata": {},
     "output_type": "execute_result"
    }
   ],
   "source": [
    "sleep = sleep[['Id','Time','Moving']]\n",
    "sleep.head()"
   ]
  },
  {
   "cell_type": "code",
   "execution_count": 9,
   "metadata": {},
   "outputs": [
    {
     "data": {
      "text/plain": [
       "1    73394\n",
       "2     4130\n",
       "3      716\n",
       "Name: Moving, dtype: int64"
      ]
     },
     "execution_count": 9,
     "metadata": {},
     "output_type": "execute_result"
    }
   ],
   "source": [
    "sleep.Moving.value_counts()"
   ]
  },
  {
   "cell_type": "code",
   "execution_count": 12,
   "metadata": {},
   "outputs": [],
   "source": [
    "sleep.Time = pd.to_datetime(sleep.Time)"
   ]
  },
  {
   "cell_type": "markdown",
   "metadata": {},
   "source": [
    "Now we can perform the same for the heart rate dataset:"
   ]
  },
  {
   "cell_type": "code",
   "execution_count": 14,
   "metadata": {},
   "outputs": [],
   "source": [
    "heartrate = pd.read_csv('./heartrate.csv', compression='gzip')"
   ]
  },
  {
   "cell_type": "code",
   "execution_count": 16,
   "metadata": {},
   "outputs": [
    {
     "data": {
      "text/html": [
       "<div>\n",
       "<style scoped>\n",
       "    .dataframe tbody tr th:only-of-type {\n",
       "        vertical-align: middle;\n",
       "    }\n",
       "\n",
       "    .dataframe tbody tr th {\n",
       "        vertical-align: top;\n",
       "    }\n",
       "\n",
       "    .dataframe thead th {\n",
       "        text-align: right;\n",
       "    }\n",
       "</style>\n",
       "<table border=\"1\" class=\"dataframe\">\n",
       "  <thead>\n",
       "    <tr style=\"text-align: right;\">\n",
       "      <th></th>\n",
       "      <th>Unnamed: 0</th>\n",
       "      <th>Id</th>\n",
       "      <th>Time</th>\n",
       "      <th>Value</th>\n",
       "      <th>month</th>\n",
       "      <th>day</th>\n",
       "      <th>am</th>\n",
       "      <th>second</th>\n",
       "      <th>minute</th>\n",
       "      <th>hour</th>\n",
       "      <th>time_elapsed</th>\n",
       "    </tr>\n",
       "  </thead>\n",
       "  <tbody>\n",
       "    <tr>\n",
       "      <th>0</th>\n",
       "      <td>156594</td>\n",
       "      <td>2347167796</td>\n",
       "      <td>4/12/2016 7:19:00 AM</td>\n",
       "      <td>115</td>\n",
       "      <td>4</td>\n",
       "      <td>12</td>\n",
       "      <td>AM</td>\n",
       "      <td>0</td>\n",
       "      <td>19</td>\n",
       "      <td>7</td>\n",
       "      <td>26340</td>\n",
       "    </tr>\n",
       "    <tr>\n",
       "      <th>1</th>\n",
       "      <td>156595</td>\n",
       "      <td>2347167796</td>\n",
       "      <td>4/12/2016 7:19:05 AM</td>\n",
       "      <td>114</td>\n",
       "      <td>4</td>\n",
       "      <td>12</td>\n",
       "      <td>AM</td>\n",
       "      <td>5</td>\n",
       "      <td>19</td>\n",
       "      <td>7</td>\n",
       "      <td>26345</td>\n",
       "    </tr>\n",
       "    <tr>\n",
       "      <th>2</th>\n",
       "      <td>156596</td>\n",
       "      <td>2347167796</td>\n",
       "      <td>4/12/2016 7:19:10 AM</td>\n",
       "      <td>113</td>\n",
       "      <td>4</td>\n",
       "      <td>12</td>\n",
       "      <td>AM</td>\n",
       "      <td>10</td>\n",
       "      <td>19</td>\n",
       "      <td>7</td>\n",
       "      <td>26350</td>\n",
       "    </tr>\n",
       "    <tr>\n",
       "      <th>3</th>\n",
       "      <td>156597</td>\n",
       "      <td>2347167796</td>\n",
       "      <td>4/12/2016 7:19:25 AM</td>\n",
       "      <td>113</td>\n",
       "      <td>4</td>\n",
       "      <td>12</td>\n",
       "      <td>AM</td>\n",
       "      <td>25</td>\n",
       "      <td>19</td>\n",
       "      <td>7</td>\n",
       "      <td>26365</td>\n",
       "    </tr>\n",
       "    <tr>\n",
       "      <th>4</th>\n",
       "      <td>156598</td>\n",
       "      <td>2347167796</td>\n",
       "      <td>4/12/2016 7:19:30 AM</td>\n",
       "      <td>117</td>\n",
       "      <td>4</td>\n",
       "      <td>12</td>\n",
       "      <td>AM</td>\n",
       "      <td>30</td>\n",
       "      <td>19</td>\n",
       "      <td>7</td>\n",
       "      <td>26370</td>\n",
       "    </tr>\n",
       "  </tbody>\n",
       "</table>\n",
       "</div>"
      ],
      "text/plain": [
       "   Unnamed: 0          Id                  Time  Value  month  day  am  \\\n",
       "0      156594  2347167796  4/12/2016 7:19:00 AM    115      4   12  AM   \n",
       "1      156595  2347167796  4/12/2016 7:19:05 AM    114      4   12  AM   \n",
       "2      156596  2347167796  4/12/2016 7:19:10 AM    113      4   12  AM   \n",
       "3      156597  2347167796  4/12/2016 7:19:25 AM    113      4   12  AM   \n",
       "4      156598  2347167796  4/12/2016 7:19:30 AM    117      4   12  AM   \n",
       "\n",
       "   second  minute  hour  time_elapsed  \n",
       "0       0      19     7         26340  \n",
       "1       5      19     7         26345  \n",
       "2      10      19     7         26350  \n",
       "3      25      19     7         26365  \n",
       "4      30      19     7         26370  "
      ]
     },
     "execution_count": 16,
     "metadata": {},
     "output_type": "execute_result"
    }
   ],
   "source": [
    "heartrate.head()"
   ]
  },
  {
   "cell_type": "code",
   "execution_count": 18,
   "metadata": {},
   "outputs": [
    {
     "data": {
      "text/html": [
       "<div>\n",
       "<style scoped>\n",
       "    .dataframe tbody tr th:only-of-type {\n",
       "        vertical-align: middle;\n",
       "    }\n",
       "\n",
       "    .dataframe tbody tr th {\n",
       "        vertical-align: top;\n",
       "    }\n",
       "\n",
       "    .dataframe thead th {\n",
       "        text-align: right;\n",
       "    }\n",
       "</style>\n",
       "<table border=\"1\" class=\"dataframe\">\n",
       "  <thead>\n",
       "    <tr style=\"text-align: right;\">\n",
       "      <th></th>\n",
       "      <th>Id</th>\n",
       "      <th>Time</th>\n",
       "      <th>Value</th>\n",
       "    </tr>\n",
       "  </thead>\n",
       "  <tbody>\n",
       "    <tr>\n",
       "      <th>0</th>\n",
       "      <td>2347167796</td>\n",
       "      <td>4/12/2016 7:19:00 AM</td>\n",
       "      <td>115</td>\n",
       "    </tr>\n",
       "    <tr>\n",
       "      <th>1</th>\n",
       "      <td>2347167796</td>\n",
       "      <td>4/12/2016 7:19:05 AM</td>\n",
       "      <td>114</td>\n",
       "    </tr>\n",
       "    <tr>\n",
       "      <th>2</th>\n",
       "      <td>2347167796</td>\n",
       "      <td>4/12/2016 7:19:10 AM</td>\n",
       "      <td>113</td>\n",
       "    </tr>\n",
       "    <tr>\n",
       "      <th>3</th>\n",
       "      <td>2347167796</td>\n",
       "      <td>4/12/2016 7:19:25 AM</td>\n",
       "      <td>113</td>\n",
       "    </tr>\n",
       "    <tr>\n",
       "      <th>4</th>\n",
       "      <td>2347167796</td>\n",
       "      <td>4/12/2016 7:19:30 AM</td>\n",
       "      <td>117</td>\n",
       "    </tr>\n",
       "  </tbody>\n",
       "</table>\n",
       "</div>"
      ],
      "text/plain": [
       "           Id                  Time  Value\n",
       "0  2347167796  4/12/2016 7:19:00 AM    115\n",
       "1  2347167796  4/12/2016 7:19:05 AM    114\n",
       "2  2347167796  4/12/2016 7:19:10 AM    113\n",
       "3  2347167796  4/12/2016 7:19:25 AM    113\n",
       "4  2347167796  4/12/2016 7:19:30 AM    117"
      ]
     },
     "execution_count": 18,
     "metadata": {},
     "output_type": "execute_result"
    }
   ],
   "source": [
    "heartrate = heartrate[['Id','Time','Value']]"
   ]
  },
  {
   "cell_type": "code",
   "execution_count": 19,
   "metadata": {},
   "outputs": [],
   "source": [
    "heartrate.Time = pd.to_datetime(heartrate.Time)"
   ]
  },
  {
   "cell_type": "code",
   "execution_count": 23,
   "metadata": {},
   "outputs": [],
   "source": [
    "heartrate['Time'] = heartrate['Time'].values.astype('<M8[m]')"
   ]
  },
  {
   "cell_type": "code",
   "execution_count": 26,
   "metadata": {},
   "outputs": [],
   "source": [
    "heartrate = heartrate.groupby(['Id', 'Time'])['Value'].mean().reset_index()"
   ]
  },
  {
   "cell_type": "markdown",
   "metadata": {},
   "source": [
    "Now we have both datasets ready:"
   ]
  },
  {
   "cell_type": "code",
   "execution_count": 27,
   "metadata": {
    "scrolled": true
   },
   "outputs": [
    {
     "data": {
      "text/html": [
       "<div>\n",
       "<style scoped>\n",
       "    .dataframe tbody tr th:only-of-type {\n",
       "        vertical-align: middle;\n",
       "    }\n",
       "\n",
       "    .dataframe tbody tr th {\n",
       "        vertical-align: top;\n",
       "    }\n",
       "\n",
       "    .dataframe thead th {\n",
       "        text-align: right;\n",
       "    }\n",
       "</style>\n",
       "<table border=\"1\" class=\"dataframe\">\n",
       "  <thead>\n",
       "    <tr style=\"text-align: right;\">\n",
       "      <th></th>\n",
       "      <th>Id</th>\n",
       "      <th>Time</th>\n",
       "      <th>Value</th>\n",
       "    </tr>\n",
       "  </thead>\n",
       "  <tbody>\n",
       "    <tr>\n",
       "      <th>0</th>\n",
       "      <td>2347167796</td>\n",
       "      <td>2016-04-12 07:19:00</td>\n",
       "      <td>113.100000</td>\n",
       "    </tr>\n",
       "    <tr>\n",
       "      <th>1</th>\n",
       "      <td>2347167796</td>\n",
       "      <td>2016-04-12 07:20:00</td>\n",
       "      <td>110.000000</td>\n",
       "    </tr>\n",
       "    <tr>\n",
       "      <th>2</th>\n",
       "      <td>2347167796</td>\n",
       "      <td>2016-04-12 07:21:00</td>\n",
       "      <td>99.444444</td>\n",
       "    </tr>\n",
       "    <tr>\n",
       "      <th>3</th>\n",
       "      <td>2347167796</td>\n",
       "      <td>2016-04-12 07:22:00</td>\n",
       "      <td>92.375000</td>\n",
       "    </tr>\n",
       "    <tr>\n",
       "      <th>4</th>\n",
       "      <td>2347167796</td>\n",
       "      <td>2016-04-12 07:23:00</td>\n",
       "      <td>88.142857</td>\n",
       "    </tr>\n",
       "  </tbody>\n",
       "</table>\n",
       "</div>"
      ],
      "text/plain": [
       "           Id                Time       Value\n",
       "0  2347167796 2016-04-12 07:19:00  113.100000\n",
       "1  2347167796 2016-04-12 07:20:00  110.000000\n",
       "2  2347167796 2016-04-12 07:21:00   99.444444\n",
       "3  2347167796 2016-04-12 07:22:00   92.375000\n",
       "4  2347167796 2016-04-12 07:23:00   88.142857"
      ]
     },
     "execution_count": 27,
     "metadata": {},
     "output_type": "execute_result"
    }
   ],
   "source": [
    "heartrate.head()"
   ]
  },
  {
   "cell_type": "code",
   "execution_count": 22,
   "metadata": {},
   "outputs": [
    {
     "data": {
      "text/html": [
       "<div>\n",
       "<style scoped>\n",
       "    .dataframe tbody tr th:only-of-type {\n",
       "        vertical-align: middle;\n",
       "    }\n",
       "\n",
       "    .dataframe tbody tr th {\n",
       "        vertical-align: top;\n",
       "    }\n",
       "\n",
       "    .dataframe thead th {\n",
       "        text-align: right;\n",
       "    }\n",
       "</style>\n",
       "<table border=\"1\" class=\"dataframe\">\n",
       "  <thead>\n",
       "    <tr style=\"text-align: right;\">\n",
       "      <th></th>\n",
       "      <th>Id</th>\n",
       "      <th>Time</th>\n",
       "      <th>Moving</th>\n",
       "    </tr>\n",
       "  </thead>\n",
       "  <tbody>\n",
       "    <tr>\n",
       "      <th>0</th>\n",
       "      <td>2347167796</td>\n",
       "      <td>2016-04-12 22:05:00</td>\n",
       "      <td>3</td>\n",
       "    </tr>\n",
       "    <tr>\n",
       "      <th>1</th>\n",
       "      <td>2347167796</td>\n",
       "      <td>2016-04-12 22:06:00</td>\n",
       "      <td>3</td>\n",
       "    </tr>\n",
       "    <tr>\n",
       "      <th>2</th>\n",
       "      <td>2347167796</td>\n",
       "      <td>2016-04-12 22:07:00</td>\n",
       "      <td>2</td>\n",
       "    </tr>\n",
       "    <tr>\n",
       "      <th>3</th>\n",
       "      <td>2347167796</td>\n",
       "      <td>2016-04-12 22:08:00</td>\n",
       "      <td>1</td>\n",
       "    </tr>\n",
       "    <tr>\n",
       "      <th>4</th>\n",
       "      <td>2347167796</td>\n",
       "      <td>2016-04-12 22:09:00</td>\n",
       "      <td>1</td>\n",
       "    </tr>\n",
       "  </tbody>\n",
       "</table>\n",
       "</div>"
      ],
      "text/plain": [
       "           Id                Time  Moving\n",
       "0  2347167796 2016-04-12 22:05:00       3\n",
       "1  2347167796 2016-04-12 22:06:00       3\n",
       "2  2347167796 2016-04-12 22:07:00       2\n",
       "3  2347167796 2016-04-12 22:08:00       1\n",
       "4  2347167796 2016-04-12 22:09:00       1"
      ]
     },
     "execution_count": 22,
     "metadata": {},
     "output_type": "execute_result"
    }
   ],
   "source": [
    "sleep.head()"
   ]
  },
  {
   "cell_type": "code",
   "execution_count": 44,
   "metadata": {},
   "outputs": [],
   "source": [
    "hr_sleep = sleep\n",
    "hr_sleep['Value'] = 0"
   ]
  },
  {
   "cell_type": "code",
   "execution_count": 45,
   "metadata": {},
   "outputs": [],
   "source": [
    "hr_sleep = pd.merge(sleep, heartrate,  how='left', left_on=['Id','Time'], right_on = ['Id','Time'])"
   ]
  },
  {
   "cell_type": "code",
   "execution_count": 46,
   "metadata": {},
   "outputs": [
    {
     "data": {
      "text/html": [
       "<div>\n",
       "<style scoped>\n",
       "    .dataframe tbody tr th:only-of-type {\n",
       "        vertical-align: middle;\n",
       "    }\n",
       "\n",
       "    .dataframe tbody tr th {\n",
       "        vertical-align: top;\n",
       "    }\n",
       "\n",
       "    .dataframe thead th {\n",
       "        text-align: right;\n",
       "    }\n",
       "</style>\n",
       "<table border=\"1\" class=\"dataframe\">\n",
       "  <thead>\n",
       "    <tr style=\"text-align: right;\">\n",
       "      <th></th>\n",
       "      <th>Id</th>\n",
       "      <th>Time</th>\n",
       "      <th>Moving</th>\n",
       "      <th>Value_x</th>\n",
       "      <th>Value_y</th>\n",
       "    </tr>\n",
       "  </thead>\n",
       "  <tbody>\n",
       "    <tr>\n",
       "      <th>0</th>\n",
       "      <td>2347167796</td>\n",
       "      <td>2016-04-12 22:05:00</td>\n",
       "      <td>3</td>\n",
       "      <td>0</td>\n",
       "      <td>76.666667</td>\n",
       "    </tr>\n",
       "    <tr>\n",
       "      <th>1</th>\n",
       "      <td>2347167796</td>\n",
       "      <td>2016-04-12 22:06:00</td>\n",
       "      <td>3</td>\n",
       "      <td>0</td>\n",
       "      <td>76.666667</td>\n",
       "    </tr>\n",
       "    <tr>\n",
       "      <th>2</th>\n",
       "      <td>2347167796</td>\n",
       "      <td>2016-04-12 22:07:00</td>\n",
       "      <td>2</td>\n",
       "      <td>0</td>\n",
       "      <td>80.200000</td>\n",
       "    </tr>\n",
       "    <tr>\n",
       "      <th>3</th>\n",
       "      <td>2347167796</td>\n",
       "      <td>2016-04-12 22:08:00</td>\n",
       "      <td>1</td>\n",
       "      <td>0</td>\n",
       "      <td>80.400000</td>\n",
       "    </tr>\n",
       "    <tr>\n",
       "      <th>4</th>\n",
       "      <td>2347167796</td>\n",
       "      <td>2016-04-12 22:09:00</td>\n",
       "      <td>1</td>\n",
       "      <td>0</td>\n",
       "      <td>79.666667</td>\n",
       "    </tr>\n",
       "  </tbody>\n",
       "</table>\n",
       "</div>"
      ],
      "text/plain": [
       "           Id                Time  Moving  Value_x    Value_y\n",
       "0  2347167796 2016-04-12 22:05:00       3        0  76.666667\n",
       "1  2347167796 2016-04-12 22:06:00       3        0  76.666667\n",
       "2  2347167796 2016-04-12 22:07:00       2        0  80.200000\n",
       "3  2347167796 2016-04-12 22:08:00       1        0  80.400000\n",
       "4  2347167796 2016-04-12 22:09:00       1        0  79.666667"
      ]
     },
     "execution_count": 46,
     "metadata": {},
     "output_type": "execute_result"
    }
   ],
   "source": [
    "hr_sleep.head()"
   ]
  },
  {
   "cell_type": "code",
   "execution_count": 47,
   "metadata": {},
   "outputs": [],
   "source": [
    "hr_sleep.dropna(inplace = True)\n",
    "hr_sleep.drop(columns = ['Value_x'], inplace = True)\n",
    "hr_sleep.rename(columns={'Value_y':'Value'}, inplace=True)"
   ]
  },
  {
   "cell_type": "code",
   "execution_count": 57,
   "metadata": {},
   "outputs": [
    {
     "data": {
      "text/html": [
       "<div>\n",
       "<style scoped>\n",
       "    .dataframe tbody tr th:only-of-type {\n",
       "        vertical-align: middle;\n",
       "    }\n",
       "\n",
       "    .dataframe tbody tr th {\n",
       "        vertical-align: top;\n",
       "    }\n",
       "\n",
       "    .dataframe thead th {\n",
       "        text-align: right;\n",
       "    }\n",
       "</style>\n",
       "<table border=\"1\" class=\"dataframe\">\n",
       "  <thead>\n",
       "    <tr style=\"text-align: right;\">\n",
       "      <th></th>\n",
       "      <th>Id</th>\n",
       "      <th>Time</th>\n",
       "      <th>Moving</th>\n",
       "      <th>Value</th>\n",
       "    </tr>\n",
       "  </thead>\n",
       "  <tbody>\n",
       "    <tr>\n",
       "      <th>0</th>\n",
       "      <td>2347167796</td>\n",
       "      <td>2016-04-12 22:05:00</td>\n",
       "      <td>3</td>\n",
       "      <td>76.666667</td>\n",
       "    </tr>\n",
       "    <tr>\n",
       "      <th>1</th>\n",
       "      <td>2347167796</td>\n",
       "      <td>2016-04-12 22:06:00</td>\n",
       "      <td>3</td>\n",
       "      <td>76.666667</td>\n",
       "    </tr>\n",
       "    <tr>\n",
       "      <th>2</th>\n",
       "      <td>2347167796</td>\n",
       "      <td>2016-04-12 22:07:00</td>\n",
       "      <td>2</td>\n",
       "      <td>80.200000</td>\n",
       "    </tr>\n",
       "    <tr>\n",
       "      <th>3</th>\n",
       "      <td>2347167796</td>\n",
       "      <td>2016-04-12 22:08:00</td>\n",
       "      <td>1</td>\n",
       "      <td>80.400000</td>\n",
       "    </tr>\n",
       "    <tr>\n",
       "      <th>4</th>\n",
       "      <td>2347167796</td>\n",
       "      <td>2016-04-12 22:09:00</td>\n",
       "      <td>1</td>\n",
       "      <td>79.666667</td>\n",
       "    </tr>\n",
       "  </tbody>\n",
       "</table>\n",
       "</div>"
      ],
      "text/plain": [
       "           Id                Time  Moving      Value\n",
       "0  2347167796 2016-04-12 22:05:00       3  76.666667\n",
       "1  2347167796 2016-04-12 22:06:00       3  76.666667\n",
       "2  2347167796 2016-04-12 22:07:00       2  80.200000\n",
       "3  2347167796 2016-04-12 22:08:00       1  80.400000\n",
       "4  2347167796 2016-04-12 22:09:00       1  79.666667"
      ]
     },
     "execution_count": 57,
     "metadata": {},
     "output_type": "execute_result"
    }
   ],
   "source": [
    "hr_sleep.head()"
   ]
  },
  {
   "cell_type": "code",
   "execution_count": 61,
   "metadata": {},
   "outputs": [],
   "source": [
    "hr_sleep.to_csv('./data/hr_sleep.csv')"
   ]
  },
  {
   "cell_type": "code",
   "execution_count": 59,
   "metadata": {},
   "outputs": [
    {
     "data": {
      "image/png": "[encoded data removed]",
      "text/plain": [
       "<Figure size 432x288 with 2 Axes>"
      ]
     },
     "metadata": {
      "needs_background": "light"
     },
     "output_type": "display_data"
    },
    {
     "data": {
      "text/plain": [
       "<Figure size 1440x864 with 0 Axes>"
      ]
     },
     "metadata": {},
     "output_type": "display_data"
    }
   ],
   "source": [
    "import pandas as pd\n",
    "import matplotlib.pyplot as plt\n",
    "\n",
    "df = pd.DataFrame({\"date\": [\"2018-01-01\", \"2018-01-02\", \"2018-01-03\", \"2018-01-04\"],\n",
    "                   \"column1\": [555,525,532,585], \n",
    "                   \"column2\": [50,48,49,51]})\n",
    "\n",
    "ax = df.plot(x=\"date\", y=\"column1\", legend=False)\n",
    "ax2 = ax.twinx()\n",
    "df.plot(x=\"date\", y=\"column2\", ax=ax2, legend=False, color=\"r\")\n",
    "ax.figure.legend()\n",
    "plt.figure(figsize = (20,12))\n",
    "plt.show()"
   ]
  }
 ],
 "metadata": {
  "kernelspec": {
   "display_name": "Python 3",
   "language": "python",
   "name": "python3"
  },
  "language_info": {
   "codemirror_mode": {
    "name": "ipython",
    "version": 3
   },
   "file_extension": ".py",
   "mimetype": "text/x-python",
   "name": "python",
   "nbconvert_exporter": "python",
   "pygments_lexer": "ipython3",
   "version": "3.6.6"
  }
 },
 "nbformat": 4,
 "nbformat_minor": 2
}
