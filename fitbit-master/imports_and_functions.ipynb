{
 "cells": [
  {
   "cell_type": "code",
   "execution_count": 2,
   "metadata": {},
   "outputs": [
    {
     "name": "stderr",
     "output_type": "stream",
     "text": [
      "C:\\Users\\Jason\\AppData\\Local\\conda\\conda\\envs\\DSI-6\\lib\\site-packages\\sklearn\\ensemble\\weight_boosting.py:29: DeprecationWarning: numpy.core.umath_tests is an internal NumPy module and should not be imported. It will be removed in a future NumPy release.\n",
      "  from numpy.core.umath_tests import inner1d\n"
     ]
    }
   ],
   "source": [
    "import gmaps, json\n",
    "from sklearn.decomposition import PCA\n",
    "import requests, datetime, time, h5py\n",
    "from sklearn.externals import joblib\n",
    "import missingno as msno, geopy.distance\n",
    "from uszipcode import Zipcode, SearchEngine\n",
    "import geojson\n",
    "import ipywidgets as widgets \n",
    "import geopy\n",
    "\n",
    "import re, numpy as np, pandas as pd, seaborn as sns, matplotlib.pyplot as plt\n",
    "\n",
    "from sklearn.pipeline import Pipeline\n",
    "from sklearn.preprocessing import StandardScaler\n",
    "from sklearn.neighbors import KNeighborsClassifier\n",
    "from sklearn.linear_model import LogisticRegression, LinearRegression, LassoCV, RidgeCV\n",
    "from sklearn.preprocessing import PolynomialFeatures, StandardScaler\n",
    "from sklearn.model_selection import train_test_split, cross_val_score, cross_val_predict, GridSearchCV\n",
    "from sklearn.metrics import classification_report, confusion_matrix\n",
    "\n",
    "from sklearn.ensemble import RandomForestClassifier, ExtraTreesClassifier, AdaBoostClassifier\n",
    "from sklearn.tree import DecisionTreeClassifier\n",
    "from sklearn import svm\n",
    "from sklearn.naive_bayes import MultinomialNB\n",
    "\n",
    "from bs4 import BeautifulSoup\n",
    "from sklearn.feature_extraction.text import CountVectorizer, TfidfVectorizer\n",
    "from sklearn.feature_extraction import stop_words\n",
    "import nltk\n",
    "from nltk.tokenize import RegexpTokenizer \n",
    "from nltk.stem import WordNetLemmatizer \n",
    "from nltk import pos_tag, word_tokenize\n",
    "\n",
    "%matplotlib inline\n",
    "pd.options.display.max_columns = 90\n",
    "pd.options.display.max_rows = 200"
   ]
  },
  {
   "cell_type": "code",
   "execution_count": 1,
   "metadata": {},
   "outputs": [],
   "source": [
    "dayinsec = 24*60*60\n",
    "\n",
    "def makeMonth(timestring) :\n",
    "    return timestring[0:1]\n",
    "\n",
    "def makeDay(timestring) :\n",
    "    return int(timestring[2:4].strip('/'))\n",
    "\n",
    "def make_am_pm(timestring) :\n",
    "    return timestring[-2:]\n",
    "\n",
    "def makeSec(timestring) :\n",
    "    return int(timestring[-5:-3])\n",
    "    \n",
    "def makeMin(timestring) :\n",
    "    return int(timestring[-8:-6])\n",
    "    \n",
    "def makeHour(timestring) :    \n",
    "    return int(timestring[-11:-9])\n",
    "\n",
    "def makeTimes(dfraw) :\n",
    "    dfraw['month'] = dfraw['Time'].map(makeMonth)\n",
    "\n",
    "    dfraw['day'] = dfraw['Time'].map(makeDay)\n",
    "\n",
    "    dfraw['hour'] = dfraw['Time'].map(makeHour)\n",
    "\n",
    "    dfraw['minute'] = dfraw['Time'].map(makeMin)\n",
    "\n",
    "    dfraw['second'] = dfraw['Time'].map(makeSec)\n",
    "\n",
    "    dfraw['am'] = dfraw['Time'].map(make_am_pm)\n",
    "\n",
    "    tempindex = dfraw[dfraw['am']=='PM'].index\n",
    "\n",
    "    dfraw.loc[tempindex,'hour'] = dfraw.loc[tempindex,'hour'].map(lambda x : x + 12)\n",
    "\n",
    "    dfraw['time_elapsed'] = ((dfraw['month'].astype(int)-4)*19*24*60*60 + \n",
    "                             (dfraw['day']-12)*24*60*60 + \n",
    "                             (dfraw['hour'])*60*60 + \n",
    "                             (dfraw['minute'])*60 +\n",
    "                             (dfraw['second']))\n"
   ]
  },
  {
   "cell_type": "code",
   "execution_count": null,
   "metadata": {},
   "outputs": [],
   "source": []
  }
 ],
 "metadata": {
  "kernelspec": {
   "display_name": "Python 3",
   "language": "python",
   "name": "python3"
  },
  "language_info": {
   "codemirror_mode": {
    "name": "ipython",
    "version": 3
   },
   "file_extension": ".py",
   "mimetype": "text/x-python",
   "name": "python",
   "nbconvert_exporter": "python",
   "pygments_lexer": "ipython3",
   "version": "3.6.6"
  }
 },
 "nbformat": 4,
 "nbformat_minor": 2
}
