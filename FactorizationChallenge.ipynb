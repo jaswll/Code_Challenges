{
 "cells": [
  {
   "cell_type": "code",
   "execution_count": 63,
   "metadata": {},
   "outputs": [],
   "source": [
    "primes = [2,3,5,7,11,13,17,19]"
   ]
  },
  {
   "cell_type": "code",
   "execution_count": 53,
   "metadata": {},
   "outputs": [],
   "source": [
    "def primefactorization(n) :\n",
    "    factors = {}\n",
    "    while n > 1 :\n",
    "        factor = primefactor(n)\n",
    "        n = int(n/factor)\n",
    "        if (factor != 1) & (factor in factors) :\n",
    "            factors[factor] += 1\n",
    "        elif factor not in factors :\n",
    "            factors[factor] = 1\n",
    "        if n == 1 :\n",
    "            return factors\n",
    "\n",
    "def primefactor(n) :\n",
    "    for prime in primes :\n",
    "        remainder = n % prime\n",
    "        if remainder == 0 :\n",
    "            return prime    \n",
    "        if prime > int(n**0.5) :\n",
    "            if n in primes : return n\n",
    "            else : return 1"
   ]
  },
  {
   "cell_type": "code",
   "execution_count": 61,
   "metadata": {},
   "outputs": [
    {
     "name": "stdout",
     "output_type": "stream",
     "text": [
      "{2: 1} {2: 1}\n",
      "{3: 1} {2: 1, 3: 1}\n",
      "{2: 2} {2: 2, 3: 1}\n",
      "{5: 1} {2: 2, 3: 1, 5: 1}\n",
      "{2: 1, 3.0: 1} {2: 2, 3: 1, 5: 1}\n",
      "{7: 1} {2: 2, 3: 1, 5: 1, 7: 1}\n",
      "{2: 3} {2: 3, 3: 1, 5: 1, 7: 1}\n",
      "{3: 2} {2: 3, 3: 2, 5: 1, 7: 1}\n",
      "{2: 1, 5.0: 1} {2: 3, 3: 2, 5: 1, 7: 1}\n",
      "{11: 1} {2: 3, 3: 2, 5: 1, 7: 1, 11: 1}\n",
      "{2: 2, 3.0: 1} {2: 3, 3: 2, 5: 1, 7: 1, 11: 1}\n",
      "{13: 1} {2: 3, 3: 2, 5: 1, 7: 1, 11: 1, 13: 1}\n",
      "{2: 1, 7.0: 1} {2: 3, 3: 2, 5: 1, 7: 1, 11: 1, 13: 1}\n",
      "{3: 1, 5.0: 1} {2: 3, 3: 2, 5: 1, 7: 1, 11: 1, 13: 1}\n",
      "{2: 4} {2: 4, 3: 2, 5: 1, 7: 1, 11: 1, 13: 1}\n",
      "{17: 1} {2: 4, 3: 2, 5: 1, 7: 1, 11: 1, 13: 1, 17: 1}\n",
      "{2: 1, 3: 2} {2: 4, 3: 2, 5: 1, 7: 1, 11: 1, 13: 1, 17: 1}\n",
      "{19: 1} {2: 4, 3: 2, 5: 1, 7: 1, 11: 1, 13: 1, 17: 1, 19: 1}\n",
      "{2: 2, 5.0: 1} {2: 4, 3: 2, 5: 1, 7: 1, 11: 1, 13: 1, 17: 1, 19: 1}\n"
     ]
    },
    {
     "data": {
      "text/plain": [
       "232792560"
      ]
     },
     "execution_count": 61,
     "metadata": {},
     "output_type": "execute_result"
    }
   ],
   "source": [
    "factormaster = {}\n",
    "\n",
    "for n in range(2,21) :\n",
    "    factors = primefactorization(n)\n",
    "    for factor in factors :\n",
    "        if (factor in factormaster) :\n",
    "            if (factors[factor] > factormaster[factor]) :\n",
    "                factormaster[factor] = factors[factor]\n",
    "        else :\n",
    "            factormaster[factor] = factors[factor]\n",
    "    print(factors, factormaster)\n",
    "\n",
    "product = 1\n",
    "for key in factormaster :\n",
    "    product *= key ** factormaster[key]\n",
    "product"
   ]
  },
  {
   "cell_type": "code",
   "execution_count": 62,
   "metadata": {},
   "outputs": [
    {
     "data": {
      "text/plain": [
       "232792560"
      ]
     },
     "execution_count": 62,
     "metadata": {},
     "output_type": "execute_result"
    }
   ],
   "source": [
    "2**4 * 3**2 * 5 * 7 * 11 * 13 * 17 * 19"
   ]
  },
  {
   "cell_type": "code",
   "execution_count": null,
   "metadata": {},
   "outputs": [],
   "source": []
  }
 ],
 "metadata": {
  "kernelspec": {
   "display_name": "Python 3",
   "language": "python",
   "name": "python3"
  },
  "language_info": {
   "codemirror_mode": {
    "name": "ipython",
    "version": 3
   },
   "file_extension": ".py",
   "mimetype": "text/x-python",
   "name": "python",
   "nbconvert_exporter": "python",
   "pygments_lexer": "ipython3",
   "version": "3.6.6"
  }
 },
 "nbformat": 4,
 "nbformat_minor": 2
}
