{
 "cells": [
  {
   "cell_type": "code",
   "execution_count": 17,
   "metadata": {},
   "outputs": [],
   "source": [
    "# https://www.codewars.com/kata/twice-linear\n",
    "# using iterator\n",
    "\n",
    "def dbl_linear(end) :\n",
    "    u = [1]\n",
    "    for n in range(1,end) :\n",
    "        y = u[n-1] * 2 + 1\n",
    "        z = u[n-1] * 3 + 1\n",
    "        if y not in u :\n",
    "            if y > u[-1] : u.append(y)  \n",
    "            elif y == u[-1] : pass\n",
    "            elif y < u[-1] :\n",
    "                i = -2\n",
    "                while u[i] > y : i -= 1\n",
    "                u.insert(i+1,y)\n",
    "        u.append(z)  # z is always greater than all previous items in u\n",
    "    \n",
    "    return u[end], u\n",
    "        "
   ]
  },
  {
   "cell_type": "code",
   "execution_count": 23,
   "metadata": {},
   "outputs": [
    {
     "data": {
      "text/plain": [
       "(27,\n",
       " [1, 3, 4, 7, 9, 10, 13, 15, 19, 21, 22, 27, 28, 31, 39, 40, 43, 46, 58, 64])"
      ]
     },
     "execution_count": 23,
     "metadata": {},
     "output_type": "execute_result"
    }
   ],
   "source": [
    "dbl_linear(11)  # was wrong: [1, 3, 4, 7, 10, 9, 13, 15, 22, 21, 31, 19, 28, 27, 40, 46, 45, 67]"
   ]
  }
 ],
 "metadata": {
  "kernelspec": {
   "display_name": "Python 3",
   "language": "python",
   "name": "python3"
  },
  "language_info": {
   "codemirror_mode": {
    "name": "ipython",
    "version": 3
   },
   "file_extension": ".py",
   "mimetype": "text/x-python",
   "name": "python",
   "nbconvert_exporter": "python",
   "pygments_lexer": "ipython3",
   "version": "3.6.6"
  }
 },
 "nbformat": 4,
 "nbformat_minor": 2
}
