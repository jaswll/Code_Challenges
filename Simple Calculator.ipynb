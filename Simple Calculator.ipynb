{
 "cells": [
  {
   "cell_type": "code",
   "execution_count": 2,
   "metadata": {},
   "outputs": [
    {
     "data": {
      "text/plain": [
       "1"
      ]
     },
     "execution_count": 2,
     "metadata": {},
     "output_type": "execute_result"
    }
   ],
   "source": [
    "# https://www.codewars.com/kata/calculator\n",
    "# Create a simple calculator that given a string of operators (+ - * and /) and numbers separated \n",
    "# by spaces returns the value of that expression\n",
    "\n",
    "# Example:\n",
    "# Calculator.new.evaluate(\"2 / 2 + 3 * 4 - 6\") # => 7"
   ]
  },
  {
   "cell_type": "code",
   "execution_count": 1,
   "metadata": {},
   "outputs": [],
   "source": [
    "def calculator(string) :\n",
    "    lis = string.split(' ')\n",
    "    lis = [formatNum(x) for x in lis]\n",
    "    while len(lis) > 1 :\n",
    "        lis = NextOperation(lis)\n",
    "        print(lis)\n",
    "    return lis[0]\n",
    "\n",
    "def nextOperation(lis) :\n",
    "    index_div = nextindex(lis,'/')\n",
    "    index_mult = nextindex(lis,'*')\n",
    "    if index_div < index_mult :\n",
    "        lis[index_div-1] = lis.pop(index_div-1) / lis.pop(index_div)\n",
    "    elif index_mult < index_div :\n",
    "        lis[index_mult-1] = lis.pop(index_mult-1) * lis.pop(index_mult)\n",
    "    else : \n",
    "        index_subtract = nextindex(lis,'-')\n",
    "        index_add = nextindex(lis,'+')\n",
    "        if index_subtract < index_add :\n",
    "            lis[index_subtract-1] = lis.pop(index_subtract-1) - lis.pop(index_subtract)\n",
    "        elif index_add < index_subtract :\n",
    "            lis[index_add-1] = lis.pop(index_add-1) + lis.pop(index_add)\n",
    "        else : print('format error')\n",
    "    return lis\n",
    "\n",
    "def nextIndex(lis, operation) :\n",
    "    try : return lis.index(operation)\n",
    "    except : return len(lis)\n",
    "    # returns len(lis) index when there are no more of that operation. This ensures \n",
    "    # when it's compared to another operation above it will never be performed\n",
    "\n",
    "def formatNum(s):\n",
    "    try: return float(s)\n",
    "    except: return s"
   ]
  },
  {
   "cell_type": "code",
   "execution_count": 2,
   "metadata": {},
   "outputs": [
    {
     "name": "stdout",
     "output_type": "stream",
     "text": [
      "[1.0, '+', 3.0, '*', 4.0, '-', 6.0]\n",
      "[1.0, '+', 12.0, '-', 6.0]\n",
      "[13.0, '-', 6.0]\n",
      "[7.0]\n"
     ]
    },
    {
     "data": {
      "text/plain": [
       "7.0"
      ]
     },
     "execution_count": 2,
     "metadata": {},
     "output_type": "execute_result"
    }
   ],
   "source": [
    "test = '2 / 2 + 3 * 4 - 6'\n",
    "Calculator(test)"
   ]
  },
  {
   "cell_type": "code",
   "execution_count": 4,
   "metadata": {},
   "outputs": [
    {
     "name": "stdout",
     "output_type": "stream",
     "text": [
      "[2.0, '-', 12.0, '-', 6.0, '*', 2.0, '/', 2.0, '+', 3.0, '*', 4.0, '-', 6.0]\n",
      "[2.0, '-', 12.0, '-', 12.0, '/', 2.0, '+', 3.0, '*', 4.0, '-', 6.0]\n",
      "[2.0, '-', 12.0, '-', 6.0, '+', 3.0, '*', 4.0, '-', 6.0]\n",
      "[2.0, '-', 12.0, '-', 6.0, '+', 12.0, '-', 6.0]\n",
      "[-10.0, '-', 6.0, '+', 12.0, '-', 6.0]\n",
      "[-16.0, '+', 12.0, '-', 6.0]\n",
      "[-4.0, '-', 6.0]\n",
      "[-10.0]\n"
     ]
    },
    {
     "data": {
      "text/plain": [
       "-10.0"
      ]
     },
     "execution_count": 4,
     "metadata": {},
     "output_type": "execute_result"
    }
   ],
   "source": [
    "test = '2 - 3 * 4 - 6 * 2 / 2 + 3 * 4 - 6'\n",
    "Calculator(test)"
   ]
  },
  {
   "cell_type": "code",
   "execution_count": null,
   "metadata": {},
   "outputs": [],
   "source": []
  }
 ],
 "metadata": {
  "kernelspec": {
   "display_name": "Python 3",
   "language": "python",
   "name": "python3"
  },
  "language_info": {
   "codemirror_mode": {
    "name": "ipython",
    "version": 3
   },
   "file_extension": ".py",
   "mimetype": "text/x-python",
   "name": "python",
   "nbconvert_exporter": "python",
   "pygments_lexer": "ipython3",
   "version": "3.6.6"
  }
 },
 "nbformat": 4,
 "nbformat_minor": 2
}
