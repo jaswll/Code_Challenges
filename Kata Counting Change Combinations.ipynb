{
 "cells": [
  {
   "cell_type": "code",
   "execution_count": 1,
   "metadata": {},
   "outputs": [],
   "source": [
    "# https://www.codewars.com/kata/counting-change-combinations\n",
    "# Write a function that counts how many different ways you can make change for an amount of money, \n",
    "# given an array of coin denominations. For example, there are 3 ways to give change for 4 if you \n",
    "# have coins with denomination 1 and 2:\n",
    "# 1+1+1+1, 1+1+2, 2+2."
   ]
  },
  {
   "cell_type": "code",
   "execution_count": 2,
   "metadata": {},
   "outputs": [],
   "source": [
    "test = 0\n",
    "def countChange(total,coinlist) :\n",
    "    coinlist = sorted(coinlist)\n",
    "    layer = [[0,0]]\n",
    "    layerfinal = []\n",
    "    newcoinlist = coinlist\n",
    "    while newcoinlist != [] :\n",
    "        layer, newcoinlist = countLayer(layer,newcoinlist,total)\n",
    "        for duolist in layer :\n",
    "            layerfinal = sortedinsert(duolist,layerfinal)\n",
    "        print(layerfinal)\n",
    "    for subtotal,count in layerfinal[::-1] :\n",
    "        if subtotal == total : return count\n",
    "    return 0\n",
    "\n",
    "def countLayer(layer,coinlist, total) :   # assumes coinlist already sorted\n",
    "    newlayer = []\n",
    "    for coin in coinlist :\n",
    "        global test\n",
    "        print(test)\n",
    "        test = test + 1\n",
    "        if test > 25 : return 'error'\n",
    "        if layer[0][0]+coin > total : coinlist.pop()   # takes out coins that can't ever give total at this point\n",
    "        for i in range(len(layer)) :\n",
    "            if total >= coin+layer[i][0] :\n",
    "                newlayer = sortedinsert([coin+layer[i][0],1],newlayer)\n",
    "        print(newlayer,coinlist)\n",
    "    return newlayer, coinlist"
   ]
  },
  {
   "cell_type": "code",
   "execution_count": 3,
   "metadata": {},
   "outputs": [],
   "source": [
    "def sortedinsert(duolist,lis) :\n",
    "    for n in range(len(lis)-1,-1,-1) :\n",
    "        if duolist[0] == lis[n][0] :\n",
    "            lis[n][1] += duolist[1]\n",
    "            return lis\n",
    "        elif duolist[0] < lis[n][0] : pass\n",
    "        elif duolist[0] > lis[n][0] : \n",
    "            lis[n+1:n+1] = [[duolist[0],1]]\n",
    "            return lis\n",
    "        else : print('else error')\n",
    "        #print(duolist,lis)\n",
    "    lis[0:0] = [duolist]\n",
    "    return lis\n",
    "\n",
    "\n",
    "# insert by list slice\n",
    "l = [[1,1],[2,1],[3,1]]\n",
    "l[1:1] = [[1.9,1]]"
   ]
  },
  {
   "cell_type": "code",
   "execution_count": 4,
   "metadata": {},
   "outputs": [],
   "source": [
    "#countChange(11, [5,7])"
   ]
  },
  {
   "cell_type": "code",
   "execution_count": 5,
   "metadata": {
    "scrolled": false
   },
   "outputs": [
    {
     "name": "stdout",
     "output_type": "stream",
     "text": [
      "0\n",
      "[[2, 1]] [2, 3, 5]\n",
      "1\n",
      "[[2, 1], [3, 1]] [2, 3, 5]\n",
      "2\n",
      "[[2, 1], [3, 1], [5, 1]] [2, 3, 5]\n",
      "[[2, 1], [3, 1], [5, 1]]\n",
      "3\n",
      "[[4, 1], [5, 1], [7, 1]] [2, 3, 5]\n",
      "4\n",
      "[[4, 1], [5, 2], [6, 1], [7, 1], [8, 1]] [2, 3, 5]\n",
      "5\n",
      "[[4, 1], [5, 2], [6, 1], [7, 2], [8, 2], [10, 1]] [2, 3, 5]\n",
      "[[2, 1], [3, 1], [4, 1], [5, 3], [6, 1], [7, 1], [8, 1], [10, 1]]\n",
      "6\n",
      "[[6, 1], [7, 1], [8, 1], [9, 1], [10, 1], [12, 1]] [2, 3, 5]\n",
      "7\n",
      "[[6, 1], [7, 2], [8, 2], [9, 2], [10, 2], [11, 1], [12, 1], [13, 1]] [2, 3, 5]\n",
      "8\n",
      "[[6, 1], [7, 2], [8, 2], [9, 3], [10, 3], [11, 2], [12, 2], [13, 2], [15, 1]] [2, 3, 5]\n",
      "[[2, 1], [3, 1], [4, 1], [5, 3], [6, 2], [7, 3], [8, 3], [9, 1], [10, 4], [11, 1], [12, 1], [13, 1], [15, 1]]\n",
      "9\n",
      "[[8, 1], [9, 1], [10, 1], [11, 1], [12, 1], [13, 1], [14, 1], [15, 1], [17, 1]] [2, 3, 5]\n",
      "10\n",
      "[[8, 1], [9, 2], [10, 2], [11, 2], [12, 2], [13, 2], [14, 2], [15, 2], [16, 1], [17, 1], [18, 1]] [2, 3, 5]\n",
      "11\n",
      "[[8, 1], [9, 2], [10, 2], [11, 3], [12, 3], [13, 3], [14, 3], [15, 3], [16, 2], [17, 2], [18, 2], [20, 1]] [2, 3, 5]\n",
      "[[2, 1], [3, 1], [4, 1], [5, 3], [6, 2], [7, 3], [8, 4], [9, 3], [10, 6], [11, 4], [12, 4], [13, 4], [14, 1], [15, 4], [16, 1], [17, 1], [18, 1], [20, 1]]\n",
      "12\n",
      "[[10, 1], [11, 1], [12, 1], [13, 1], [14, 1], [15, 1], [16, 1], [17, 1], [18, 1], [19, 1], [20, 1]] [2, 3, 5]\n",
      "13\n",
      "[[10, 1], [11, 2], [12, 2], [13, 2], [14, 2], [15, 2], [16, 2], [17, 2], [18, 2], [19, 2], [20, 2]] [2, 3, 5]\n",
      "14\n",
      "[[10, 1], [11, 2], [12, 2], [13, 3], [14, 3], [15, 3], [16, 3], [17, 3], [18, 3], [19, 3], [20, 3]] [2, 3, 5]\n",
      "[[2, 1], [3, 1], [4, 1], [5, 3], [6, 2], [7, 3], [8, 4], [9, 3], [10, 7], [11, 6], [12, 6], [13, 7], [14, 4], [15, 7], [16, 4], [17, 4], [18, 4], [19, 1], [20, 4]]\n",
      "15\n",
      "[[12, 1], [13, 1], [14, 1], [15, 1], [16, 1], [17, 1], [18, 1], [19, 1], [20, 1]] [2, 3, 5]\n",
      "16\n",
      "[[12, 1], [13, 2], [14, 2], [15, 2], [16, 2], [17, 2], [18, 2], [19, 2], [20, 2]] [2, 3, 5]\n",
      "17\n",
      "[[12, 1], [13, 2], [14, 2], [15, 3], [16, 3], [17, 3], [18, 3], [19, 3], [20, 3]] [2, 3, 5]\n",
      "[[2, 1], [3, 1], [4, 1], [5, 3], [6, 2], [7, 3], [8, 4], [9, 3], [10, 7], [11, 6], [12, 7], [13, 9], [14, 6], [15, 10], [16, 7], [17, 7], [18, 7], [19, 4], [20, 7]]\n",
      "18\n",
      "[[14, 1], [15, 1], [16, 1], [17, 1], [18, 1], [19, 1], [20, 1]] [2, 3, 5]\n",
      "19\n",
      "[[14, 1], [15, 2], [16, 2], [17, 2], [18, 2], [19, 2], [20, 2]] [2, 3, 5]\n",
      "20\n",
      "[[14, 1], [15, 2], [16, 2], [17, 3], [18, 3], [19, 3], [20, 3]] [2, 3, 5]\n",
      "[[2, 1], [3, 1], [4, 1], [5, 3], [6, 2], [7, 3], [8, 4], [9, 3], [10, 7], [11, 6], [12, 7], [13, 9], [14, 7], [15, 12], [16, 9], [17, 10], [18, 10], [19, 7], [20, 10]]\n",
      "21\n",
      "[[16, 1], [17, 1], [18, 1], [19, 1], [20, 1]] [2, 3, 5]\n",
      "22\n",
      "[[16, 1], [17, 2], [18, 2], [19, 2], [20, 2]] [2, 3, 5]\n",
      "23\n",
      "[[16, 1], [17, 2], [18, 2], [19, 3], [20, 3]] [2, 3, 5]\n",
      "[[2, 1], [3, 1], [4, 1], [5, 3], [6, 2], [7, 3], [8, 4], [9, 3], [10, 7], [11, 6], [12, 7], [13, 9], [14, 7], [15, 12], [16, 10], [17, 12], [18, 12], [19, 10], [20, 13]]\n",
      "24\n",
      "[[18, 1], [19, 1], [20, 1]] [2, 3, 5]\n",
      "25\n"
     ]
    },
    {
     "ename": "ValueError",
     "evalue": "too many values to unpack (expected 2)",
     "output_type": "error",
     "traceback": [
      "\u001b[1;31m---------------------------------------------------------------------------\u001b[0m",
      "\u001b[1;31mValueError\u001b[0m                                Traceback (most recent call last)",
      "\u001b[1;32m<ipython-input-5-6588c7d22fa3>\u001b[0m in \u001b[0;36m<module>\u001b[1;34m()\u001b[0m\n\u001b[1;32m----> 1\u001b[1;33m \u001b[0mcountChange\u001b[0m\u001b[1;33m(\u001b[0m\u001b[1;36m20\u001b[0m\u001b[1;33m,\u001b[0m \u001b[1;33m[\u001b[0m\u001b[1;36m5\u001b[0m\u001b[1;33m,\u001b[0m\u001b[1;36m2\u001b[0m\u001b[1;33m,\u001b[0m\u001b[1;36m3\u001b[0m\u001b[1;33m]\u001b[0m\u001b[1;33m)\u001b[0m\u001b[1;33m\u001b[0m\u001b[0m\n\u001b[0m",
      "\u001b[1;32m<ipython-input-2-a6d18bca34e0>\u001b[0m in \u001b[0;36mcountChange\u001b[1;34m(total, coinlist)\u001b[0m\n\u001b[0;32m      6\u001b[0m     \u001b[0mnewcoinlist\u001b[0m \u001b[1;33m=\u001b[0m \u001b[0mcoinlist\u001b[0m\u001b[1;33m\u001b[0m\u001b[0m\n\u001b[0;32m      7\u001b[0m     \u001b[1;32mwhile\u001b[0m \u001b[0mnewcoinlist\u001b[0m \u001b[1;33m!=\u001b[0m \u001b[1;33m[\u001b[0m\u001b[1;33m]\u001b[0m \u001b[1;33m:\u001b[0m\u001b[1;33m\u001b[0m\u001b[0m\n\u001b[1;32m----> 8\u001b[1;33m         \u001b[0mlayer\u001b[0m\u001b[1;33m,\u001b[0m \u001b[0mnewcoinlist\u001b[0m \u001b[1;33m=\u001b[0m \u001b[0mcountLayer\u001b[0m\u001b[1;33m(\u001b[0m\u001b[0mlayer\u001b[0m\u001b[1;33m,\u001b[0m\u001b[0mnewcoinlist\u001b[0m\u001b[1;33m,\u001b[0m\u001b[0mtotal\u001b[0m\u001b[1;33m)\u001b[0m\u001b[1;33m\u001b[0m\u001b[0m\n\u001b[0m\u001b[0;32m      9\u001b[0m         \u001b[1;32mfor\u001b[0m \u001b[0mduolist\u001b[0m \u001b[1;32min\u001b[0m \u001b[0mlayer\u001b[0m \u001b[1;33m:\u001b[0m\u001b[1;33m\u001b[0m\u001b[0m\n\u001b[0;32m     10\u001b[0m             \u001b[0mlayerfinal\u001b[0m \u001b[1;33m=\u001b[0m \u001b[0msortedinsert\u001b[0m\u001b[1;33m(\u001b[0m\u001b[0mduolist\u001b[0m\u001b[1;33m,\u001b[0m\u001b[0mlayerfinal\u001b[0m\u001b[1;33m)\u001b[0m\u001b[1;33m\u001b[0m\u001b[0m\n",
      "\u001b[1;31mValueError\u001b[0m: too many values to unpack (expected 2)"
     ]
    }
   ],
   "source": [
    "countChange(20, [5,2,3])  # 25 different combinations, counts by branching 'layer'\n"
   ]
  },
  {
   "cell_type": "code",
   "execution_count": null,
   "metadata": {},
   "outputs": [],
   "source": []
  }
 ],
 "metadata": {
  "kernelspec": {
   "display_name": "Python 3",
   "language": "python",
   "name": "python3"
  },
  "language_info": {
   "codemirror_mode": {
    "name": "ipython",
    "version": 3
   },
   "file_extension": ".py",
   "mimetype": "text/x-python",
   "name": "python",
   "nbconvert_exporter": "python",
   "pygments_lexer": "ipython3",
   "version": "3.6.6"
  }
 },
 "nbformat": 4,
 "nbformat_minor": 2
}
